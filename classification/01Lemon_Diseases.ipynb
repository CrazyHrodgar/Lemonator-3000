{
  "nbformat": 4,
  "nbformat_minor": 0,
  "metadata": {
    "colab": {
      "name": "01Lemon_Diseases.ipynb",
      "provenance": [],
      "collapsed_sections": []
    },
    "kernelspec": {
      "name": "python3",
      "display_name": "Python 3"
    },
    "accelerator": "GPU"
  },
  "cells": [
    {
      "cell_type": "markdown",
      "metadata": {
        "id": "view-in-github",
        "colab_type": "text"
      },
      "source": [
        "<a href=\"https://colab.research.google.com/github/obeshor/Plant-Diseases-Detector/blob/master/Plant_Diseases_Detection_with_TF2_V4.ipynb\" target=\"_parent\"><img src=\"https://colab.research.google.com/assets/colab-badge.svg\" alt=\"Open In Colab\"/></a>"
      ]
    },
    {
      "cell_type": "markdown",
      "metadata": {
        "id": "R_FLx9gt3Rb7",
        "colab_type": "text"
      },
      "source": [
        "# Lemon classification quality"
      ]
    },
    {
      "cell_type": "markdown",
      "metadata": {
        "id": "jm459EZSk4zS",
        "colab_type": "text"
      },
      "source": [
        "### **Importing  the Libraries**"
      ]
    },
    {
      "cell_type": "code",
      "metadata": {
        "id": "B9XR2lRUPtQG",
        "colab_type": "code",
        "colab": {}
      },
      "source": [
        "# Install nightly package for some functionalities that aren't in alpha\n",
        "#!pip install tensorflow-gpu==2.0.0-beta1\n",
        "\n",
        "# Install TF Hub for TF2\n",
        "#!pip install 'tensorflow-hub == 0.5'\n"
      ],
      "execution_count": 0,
      "outputs": []
    },
    {
      "cell_type": "code",
      "metadata": {
        "id": "f_hZVquWBx9b",
        "colab_type": "code",
        "outputId": "1583c229-6206-44b3-abc7-e77d4a225fbd",
        "colab": {
          "base_uri": "https://localhost:8080/",
          "height": 64
        }
      },
      "source": [
        "from __future__ import absolute_import, division, print_function, unicode_literals\n",
        "\n",
        "\n",
        "import tensorflow as tf\n",
        "#tf.logging.set_verbosity(tf.logging.ERROR)\n",
        "#tf.enable_eager_execution()\n",
        "\n",
        "import tensorflow_hub as hub\n",
        "import os\n",
        "from tensorflow.keras.layers import Dense, Flatten, Conv2D\n",
        "from tensorflow.keras import Model\n",
        "from tensorflow.keras.preprocessing.image import ImageDataGenerator\n",
        "from tensorflow.keras.optimizers import Adam\n",
        "from tensorflow.keras import layers\n",
        "#from keras import optimizers"
      ],
      "execution_count": 1,
      "outputs": [
        {
          "output_type": "display_data",
          "data": {
            "text/html": [
              "<p style=\"color: red;\">\n",
              "The default version of TensorFlow in Colab will soon switch to TensorFlow 2.x.<br>\n",
              "We recommend you <a href=\"https://www.tensorflow.org/guide/migrate\" target=\"_blank\">upgrade</a> now \n",
              "or ensure your notebook will continue to use TensorFlow 1.x via the <code>%tensorflow_version 1.x</code> magic:\n",
              "<a href=\"https://colab.research.google.com/notebooks/tensorflow_version.ipynb\" target=\"_blank\">more info</a>.</p>\n"
            ],
            "text/plain": [
              "<IPython.core.display.HTML object>"
            ]
          },
          "metadata": {
            "tags": []
          }
        }
      ]
    },
    {
      "cell_type": "code",
      "metadata": {
        "id": "eoKSWDje_6z0",
        "colab_type": "code",
        "outputId": "adab79d2-b5da-4491-9917-169eb7207507",
        "colab": {
          "base_uri": "https://localhost:8080/",
          "height": 86
        }
      },
      "source": [
        "# verify TensorFlow version\n",
        "\n",
        "print(\"Version: \", tf.__version__)\n",
        "print(\"Eager mode: \", tf.executing_eagerly())\n",
        "print(\"Hub version: \", hub.__version__)\n",
        "print(\"GPU is\", \"available\" if tf.test.is_gpu_available() else \"NOT AVAILABLE\")\n"
      ],
      "execution_count": 2,
      "outputs": [
        {
          "output_type": "stream",
          "text": [
            "Version:  1.15.0\n",
            "Eager mode:  False\n",
            "Hub version:  0.7.0\n",
            "GPU is available\n"
          ],
          "name": "stdout"
        }
      ]
    },
    {
      "cell_type": "markdown",
      "metadata": {
        "id": "l9qTqaSDaL-i",
        "colab_type": "text"
      },
      "source": [
        "### Load the data\n"
      ]
    },
    {
      "cell_type": "code",
      "metadata": {
        "id": "4fLQIVLqjD9x",
        "colab_type": "code",
        "outputId": "5b833d95-4967-4251-c709-b648c99c51c7",
        "colab": {
          "base_uri": "https://localhost:8080/",
          "height": 381
        }
      },
      "source": [
        "!!wget --no-check-certificate http://www.sandradelafuente.com/app/download/15276656/validation.zip #validation\n",
        "!!wget --no-check-certificate http://www.sandradelafuente.com/app/download/15276659/limon_manchado.zip #training_manchado\n",
        "!!wget --no-check-certificate http://www.sandradelafuente.com/app/download/15276689/limon_podrido.zip #training_podrido\n",
        "!!wget --no-check-certificate http://www.sandradelafuente.com/app/download/15276692/limon_sano.zip #training_sano"
      ],
      "execution_count": 3,
      "outputs": [
        {
          "output_type": "execute_result",
          "data": {
            "text/plain": [
              "['--2020-02-19 16:39:06--  http://www.sandradelafuente.com/app/download/15276692/limon_sano.zip',\n",
              " 'Resolving www.sandradelafuente.com (www.sandradelafuente.com)... 74.208.215.110, 2607:f1c0:1000:6106:d855:c503:cf73:1830',\n",
              " 'Connecting to www.sandradelafuente.com (www.sandradelafuente.com)|74.208.215.110|:80... connected.',\n",
              " 'HTTP request sent, awaiting response... 200 OK',\n",
              " 'Length: unspecified [application/zip]',\n",
              " 'Saving to: ‘limon_sano.zip’',\n",
              " '',\n",
              " '',\n",
              " 'limon_sano.zip          [<=>                 ]       0  --.-KB/s               ',\n",
              " 'limon_sano.zip          [ <=>                ] 382.61K  1.87MB/s               ',\n",
              " 'limon_sano.zip          [  <=>               ]   3.58M  8.94MB/s               ',\n",
              " 'limon_sano.zip          [   <=>              ]   7.27M  12.0MB/s               ',\n",
              " 'limon_sano.zip          [    <=>             ]  10.85M  13.5MB/s               ',\n",
              " 'limon_sano.zip          [     <=>            ]  13.59M  13.5MB/s               ',\n",
              " 'limon_sano.zip          [      <=>           ]  16.27M  13.5MB/s               ',\n",
              " 'limon_sano.zip          [       <=>          ]  18.97M  13.5MB/s               ',\n",
              " 'limon_sano.zip          [        <=>         ]  21.71M  13.5MB/s               ',\n",
              " 'limon_sano.zip          [         <=>        ]  23.09M  13.4MB/s    in 1.7s    ',\n",
              " '',\n",
              " '2020-02-19 16:39:08 (13.4 MB/s) - ‘limon_sano.zip’ saved [24214274]',\n",
              " '']"
            ]
          },
          "metadata": {
            "tags": []
          },
          "execution_count": 3
        }
      ]
    },
    {
      "cell_type": "code",
      "metadata": {
        "id": "2GlL2U6ZS-sf",
        "colab_type": "code",
        "outputId": "a0e5a73b-5633-4294-8fec-83e9b66624ba",
        "colab": {
          "base_uri": "https://localhost:8080/",
          "height": 1000
        }
      },
      "source": [
        "!unzip validation.zip \n",
        "!unzip limon_manchado.zip\n",
        "!unzip limon_podrido.zip\n",
        "!unzip limon_sano.zip"
      ],
      "execution_count": 4,
      "outputs": [
        {
          "output_type": "stream",
          "text": [
            "Archive:  validation.zip\n",
            "   creating: validation/limon_manchado/\n",
            "  inflating: validation/limon_manchado/img (598).png  \n",
            "  inflating: validation/limon_manchado/img (599).png  \n",
            "  inflating: validation/limon_manchado/img (600).png  \n",
            "  inflating: validation/limon_manchado/img (601).png  \n",
            "  inflating: validation/limon_manchado/img (602).png  \n",
            "  inflating: validation/limon_manchado/img (603).png  \n",
            "  inflating: validation/limon_manchado/img (604).png  \n",
            "  inflating: validation/limon_manchado/img (605).png  \n",
            "  inflating: validation/limon_manchado/img (606).png  \n",
            "  inflating: validation/limon_manchado/img (607).png  \n",
            "  inflating: validation/limon_manchado/img (608).png  \n",
            "  inflating: validation/limon_manchado/img (609).png  \n",
            "  inflating: validation/limon_manchado/img (610).png  \n",
            "  inflating: validation/limon_manchado/img (611).png  \n",
            "  inflating: validation/limon_manchado/img (612).png  \n",
            "  inflating: validation/limon_manchado/img (613).png  \n",
            "  inflating: validation/limon_manchado/img (614).png  \n",
            "  inflating: validation/limon_manchado/img (615).png  \n",
            "  inflating: validation/limon_manchado/img (646).png  \n",
            "  inflating: validation/limon_manchado/img (647).png  \n",
            "  inflating: validation/limon_manchado/img (648).png  \n",
            "  inflating: validation/limon_manchado/img (649).png  \n",
            "  inflating: validation/limon_manchado/img (650).png  \n",
            "  inflating: validation/limon_manchado/img (651).png  \n",
            "  inflating: validation/limon_manchado/img (652).png  \n",
            "  inflating: validation/limon_manchado/img (653).png  \n",
            "  inflating: validation/limon_manchado/img (654).png  \n",
            "  inflating: validation/limon_manchado/img (655).png  \n",
            "  inflating: validation/limon_manchado/img (656).png  \n",
            "  inflating: validation/limon_manchado/img (657).png  \n",
            "  inflating: validation/limon_manchado/img (658).png  \n",
            "  inflating: validation/limon_manchado/img (659).png  \n",
            "  inflating: validation/limon_manchado/img (660).png  \n",
            "  inflating: validation/limon_manchado/img (666).png  \n",
            "  inflating: validation/limon_manchado/img (667).png  \n",
            "  inflating: validation/limon_manchado/img (668).png  \n",
            "  inflating: validation/limon_manchado/img (669).png  \n",
            "  inflating: validation/limon_manchado/img (670).png  \n",
            "  inflating: validation/limon_manchado/img (671).png  \n",
            "  inflating: validation/limon_manchado/img (672).png  \n",
            "  inflating: validation/limon_manchado/img (673).png  \n",
            "  inflating: validation/limon_manchado/img (674).png  \n",
            "  inflating: validation/limon_manchado/img (675).png  \n",
            "  inflating: validation/limon_manchado/img (676).png  \n",
            "  inflating: validation/limon_manchado/img (677).png  \n",
            "  inflating: validation/limon_manchado/img (678).png  \n",
            "  inflating: validation/limon_manchado/img (679).png  \n",
            "  inflating: validation/limon_manchado/img (680).png  \n",
            "  inflating: validation/limon_manchado/img (681).png  \n",
            "  inflating: validation/limon_manchado/img (682).png  \n",
            "  inflating: validation/limon_manchado/img (683).png  \n",
            "  inflating: validation/limon_manchado/img (684).png  \n",
            "  inflating: validation/limon_manchado/img (685).png  \n",
            "  inflating: validation/limon_manchado/img (691).png  \n",
            "  inflating: validation/limon_manchado/img (692).png  \n",
            "  inflating: validation/limon_manchado/img (693).png  \n",
            "  inflating: validation/limon_manchado/img (694).png  \n",
            "  inflating: validation/limon_manchado/img (695).png  \n",
            "  inflating: validation/limon_manchado/img (696).png  \n",
            "  inflating: validation/limon_manchado/img (697).png  \n",
            "  inflating: validation/limon_manchado/img (698).png  \n",
            "  inflating: validation/limon_manchado/img (704).png  \n",
            "  inflating: validation/limon_manchado/img (705).png  \n",
            "  inflating: validation/limon_manchado/img (706).png  \n",
            "  inflating: validation/limon_manchado/img (707).png  \n",
            "  inflating: validation/limon_manchado/img (708).png  \n",
            "  inflating: validation/limon_manchado/img (709).png  \n",
            "  inflating: validation/limon_manchado/img (710).png  \n",
            "  inflating: validation/limon_manchado/img (711).png  \n",
            "  inflating: validation/limon_manchado/img (712).png  \n",
            "  inflating: validation/limon_manchado/img (713).png  \n",
            "  inflating: validation/limon_manchado/img (714).png  \n",
            "  inflating: validation/limon_manchado/img (715).png  \n",
            "  inflating: validation/limon_manchado/img (716).png  \n",
            "  inflating: validation/limon_manchado/img (717).png  \n",
            "  inflating: validation/limon_manchado/img (718).png  \n",
            "  inflating: validation/limon_manchado/img (719).png  \n",
            "  inflating: validation/limon_manchado/img (720).png  \n",
            "  inflating: validation/limon_manchado/img (721).png  \n",
            "  inflating: validation/limon_manchado/img (722).png  \n",
            "  inflating: validation/limon_manchado/img (723).png  \n",
            "  inflating: validation/limon_manchado/img (724).png  \n",
            "  inflating: validation/limon_manchado/img (725).png  \n",
            "  inflating: validation/limon_manchado/img (726).png  \n",
            "  inflating: validation/limon_manchado/img (727).png  \n",
            "  inflating: validation/limon_manchado/img (728).png  \n",
            "  inflating: validation/limon_manchado/img (729).png  \n",
            "  inflating: validation/limon_manchado/img (730).png  \n",
            "  inflating: validation/limon_manchado/img (731).png  \n",
            "  inflating: validation/limon_manchado/img (732).png  \n",
            "  inflating: validation/limon_manchado/img (733).png  \n",
            "  inflating: validation/limon_manchado/img (734).png  \n",
            "  inflating: validation/limon_manchado/img (735).png  \n",
            "  inflating: validation/limon_manchado/img (736).png  \n",
            "  inflating: validation/limon_manchado/img (737).png  \n",
            "  inflating: validation/limon_manchado/img (738).png  \n",
            "  inflating: validation/limon_manchado/img (739).png  \n",
            "  inflating: validation/limon_manchado/img (740).png  \n",
            "  inflating: validation/limon_manchado/img (741).png  \n",
            "  inflating: validation/limon_manchado/img (742).png  \n",
            "  inflating: validation/limon_manchado/img (743).png  \n",
            "  inflating: validation/limon_manchado/img (744).png  \n",
            "  inflating: validation/limon_manchado/img (745).png  \n",
            "  inflating: validation/limon_manchado/img (746).png  \n",
            "  inflating: validation/limon_manchado/img (747).png  \n",
            "  inflating: validation/limon_manchado/img (748).png  \n",
            "  inflating: validation/limon_manchado/img (749).png  \n",
            "  inflating: validation/limon_manchado/img (750).png  \n",
            "  inflating: validation/limon_manchado/img (751).png  \n",
            "  inflating: validation/limon_manchado/img (752).png  \n",
            "  inflating: validation/limon_manchado/img (753).png  \n",
            "  inflating: validation/limon_manchado/img (754).png  \n",
            "  inflating: validation/limon_manchado/img (755).png  \n",
            "  inflating: validation/limon_manchado/img (756).png  \n",
            "  inflating: validation/limon_manchado/img (757).png  \n",
            "  inflating: validation/limon_manchado/img (758).png  \n",
            "  inflating: validation/limon_manchado/img (759).png  \n",
            "  inflating: validation/limon_manchado/img (760).png  \n",
            "  inflating: validation/limon_manchado/img (761).png  \n",
            "  inflating: validation/limon_manchado/img (762).png  \n",
            "  inflating: validation/limon_manchado/img (763).png  \n",
            "  inflating: validation/limon_manchado/img (764).png  \n",
            "  inflating: validation/limon_manchado/img (765).png  \n",
            "  inflating: validation/limon_manchado/img (766).png  \n",
            "  inflating: validation/limon_manchado/img (767).png  \n",
            "  inflating: validation/limon_manchado/img (768).png  \n",
            "  inflating: validation/limon_manchado/img (769).png  \n",
            "  inflating: validation/limon_manchado/img (770).png  \n",
            "  inflating: validation/limon_manchado/img (771).png  \n",
            "  inflating: validation/limon_manchado/img (772).png  \n",
            "  inflating: validation/limon_manchado/img (773).png  \n",
            "  inflating: validation/limon_manchado/img (774).png  \n",
            "  inflating: validation/limon_manchado/img (775).png  \n",
            "  inflating: validation/limon_manchado/img (776).png  \n",
            "  inflating: validation/limon_manchado/img (777).png  \n",
            "  inflating: validation/limon_manchado/img (778).png  \n",
            "  inflating: validation/limon_manchado/img (779).png  \n",
            "  inflating: validation/limon_manchado/img (789).png  \n",
            "  inflating: validation/limon_manchado/img (790).png  \n",
            "  inflating: validation/limon_manchado/img (791).png  \n",
            "  inflating: validation/limon_manchado/img (792).png  \n",
            "  inflating: validation/limon_manchado/img (793).png  \n",
            "  inflating: validation/limon_manchado/img (794).png  \n",
            "  inflating: validation/limon_manchado/img (795).png  \n",
            "  inflating: validation/limon_manchado/img (796).png  \n",
            "  inflating: validation/limon_manchado/img (797).png  \n",
            "  inflating: validation/limon_manchado/img (798).png  \n",
            "  inflating: validation/limon_manchado/img (799).png  \n",
            "  inflating: validation/limon_manchado/img (800).png  \n",
            "  inflating: validation/limon_manchado/img (801).png  \n",
            "  inflating: validation/limon_manchado/img (802).png  \n",
            "  inflating: validation/limon_manchado/img (803).png  \n",
            "  inflating: validation/limon_manchado/img (804).png  \n",
            "  inflating: validation/limon_manchado/img (805).png  \n",
            "  inflating: validation/limon_manchado/img (806).png  \n",
            "  inflating: validation/limon_manchado/img (807).png  \n",
            "  inflating: validation/limon_manchado/img (808).png  \n",
            "  inflating: validation/limon_manchado/img (809).png  \n",
            "  inflating: validation/limon_manchado/img (810).png  \n",
            "  inflating: validation/limon_manchado/img (811).png  \n",
            "   creating: validation/limon_podrido/\n",
            "  inflating: validation/limon_podrido/img (554).png  \n",
            "  inflating: validation/limon_podrido/img (555).png  \n",
            "  inflating: validation/limon_podrido/img (556).png  \n",
            "  inflating: validation/limon_podrido/img (557).png  \n",
            "  inflating: validation/limon_podrido/img (558).png  \n",
            "  inflating: validation/limon_podrido/img (559).png  \n",
            "  inflating: validation/limon_podrido/img (560).png  \n",
            "  inflating: validation/limon_podrido/img (561).png  \n",
            "  inflating: validation/limon_podrido/img (562).png  \n",
            "  inflating: validation/limon_podrido/img (563).png  \n",
            "  inflating: validation/limon_podrido/img (564).png  \n",
            "  inflating: validation/limon_podrido/img (616).png  \n",
            "  inflating: validation/limon_podrido/img (617).png  \n",
            "  inflating: validation/limon_podrido/img (618).png  \n",
            "  inflating: validation/limon_podrido/img (619).png  \n",
            "  inflating: validation/limon_podrido/img (620).png  \n",
            "  inflating: validation/limon_podrido/img (621).png  \n",
            "  inflating: validation/limon_podrido/img (622).png  \n",
            "  inflating: validation/limon_podrido/img (623).png  \n",
            "  inflating: validation/limon_podrido/img (624).png  \n",
            "  inflating: validation/limon_podrido/img (625).png  \n",
            "  inflating: validation/limon_podrido/img (626).png  \n",
            "  inflating: validation/limon_podrido/img (627).png  \n",
            "  inflating: validation/limon_podrido/img (628).png  \n",
            "  inflating: validation/limon_podrido/img (629).png  \n",
            "  inflating: validation/limon_podrido/img (630).png  \n",
            "  inflating: validation/limon_podrido/img (631).png  \n",
            "  inflating: validation/limon_podrido/img (632).png  \n",
            "  inflating: validation/limon_podrido/img (633).png  \n",
            "  inflating: validation/limon_podrido/img (634).png  \n",
            "  inflating: validation/limon_podrido/img (635).png  \n",
            "  inflating: validation/limon_podrido/img (636).png  \n",
            "  inflating: validation/limon_podrido/img (637).png  \n",
            "  inflating: validation/limon_podrido/img (638).png  \n",
            "  inflating: validation/limon_podrido/img (639).png  \n",
            "  inflating: validation/limon_podrido/img (640).png  \n",
            "  inflating: validation/limon_podrido/img (641).png  \n",
            "  inflating: validation/limon_podrido/img (642).png  \n",
            "  inflating: validation/limon_podrido/img (643).png  \n",
            "  inflating: validation/limon_podrido/img (644).png  \n",
            "  inflating: validation/limon_podrido/img (645).png  \n",
            "  inflating: validation/limon_podrido/img (661).png  \n",
            "  inflating: validation/limon_podrido/img (662).png  \n",
            "  inflating: validation/limon_podrido/img (663).png  \n",
            "  inflating: validation/limon_podrido/img (664).png  \n",
            "  inflating: validation/limon_podrido/img (665).png  \n",
            "  inflating: validation/limon_podrido/img (699).png  \n",
            "  inflating: validation/limon_podrido/img (700).png  \n",
            "  inflating: validation/limon_podrido/img (701).png  \n",
            "  inflating: validation/limon_podrido/img (702).png  \n",
            "  inflating: validation/limon_podrido/img (703).png  \n",
            "  inflating: validation/limon_podrido/img (780).png  \n",
            "  inflating: validation/limon_podrido/img (781).png  \n",
            "  inflating: validation/limon_podrido/img (782).png  \n",
            "  inflating: validation/limon_podrido/img (783).png  \n",
            "  inflating: validation/limon_podrido/img (784).png  \n",
            "  inflating: validation/limon_podrido/img (785).png  \n",
            "  inflating: validation/limon_podrido/img (786).png  \n",
            "  inflating: validation/limon_podrido/img (787).png  \n",
            "  inflating: validation/limon_podrido/img (788).png  \n",
            "   creating: validation/limon_sano/\n",
            "  inflating: validation/limon_sano/img (334).png  \n",
            "  inflating: validation/limon_sano/img (335).png  \n",
            "  inflating: validation/limon_sano/img (336).png  \n",
            "  inflating: validation/limon_sano/img (337).png  \n",
            "  inflating: validation/limon_sano/img (338).png  \n",
            "  inflating: validation/limon_sano/img (339).png  \n",
            "  inflating: validation/limon_sano/img (340).png  \n",
            "  inflating: validation/limon_sano/img (341).png  \n",
            "  inflating: validation/limon_sano/img (428).png  \n",
            "  inflating: validation/limon_sano/img (429).png  \n",
            "  inflating: validation/limon_sano/img (430).png  \n",
            "  inflating: validation/limon_sano/img (431).png  \n",
            "  inflating: validation/limon_sano/img (432).png  \n",
            "  inflating: validation/limon_sano/img (433).png  \n",
            "  inflating: validation/limon_sano/img (434).png  \n",
            "  inflating: validation/limon_sano/img (435).png  \n",
            "  inflating: validation/limon_sano/img (436).png  \n",
            "  inflating: validation/limon_sano/img (437).png  \n",
            "  inflating: validation/limon_sano/img (438).png  \n",
            "  inflating: validation/limon_sano/img (439).png  \n",
            "  inflating: validation/limon_sano/img (440).png  \n",
            "  inflating: validation/limon_sano/img (441).png  \n",
            "  inflating: validation/limon_sano/img (442).png  \n",
            "  inflating: validation/limon_sano/img (443).png  \n",
            "  inflating: validation/limon_sano/img (444).png  \n",
            "  inflating: validation/limon_sano/img (445).png  \n",
            "  inflating: validation/limon_sano/img (446).png  \n",
            "  inflating: validation/limon_sano/img (447).png  \n",
            "  inflating: validation/limon_sano/img (448).png  \n",
            "  inflating: validation/limon_sano/img (449).png  \n",
            "  inflating: validation/limon_sano/img (450).png  \n",
            "  inflating: validation/limon_sano/img (451).png  \n",
            "  inflating: validation/limon_sano/img (452).png  \n",
            "  inflating: validation/limon_sano/img (453).png  \n",
            "  inflating: validation/limon_sano/img (454).png  \n",
            "  inflating: validation/limon_sano/img (455).png  \n",
            "  inflating: validation/limon_sano/img (456).png  \n",
            "  inflating: validation/limon_sano/img (457).png  \n",
            "  inflating: validation/limon_sano/img (458).png  \n",
            "  inflating: validation/limon_sano/img (459).png  \n",
            "  inflating: validation/limon_sano/img (460).png  \n",
            "  inflating: validation/limon_sano/img (461).png  \n",
            "  inflating: validation/limon_sano/img (462).png  \n",
            "  inflating: validation/limon_sano/img (463).png  \n",
            "  inflating: validation/limon_sano/img (464).png  \n",
            "  inflating: validation/limon_sano/img (465).png  \n",
            "  inflating: validation/limon_sano/img (466).png  \n",
            "  inflating: validation/limon_sano/img (467).png  \n",
            "  inflating: validation/limon_sano/img (686).png  \n",
            "  inflating: validation/limon_sano/img (687).png  \n",
            "  inflating: validation/limon_sano/img (688).png  \n",
            "  inflating: validation/limon_sano/img (689).png  \n",
            "  inflating: validation/limon_sano/img (690).png  \n",
            "Archive:  limon_manchado.zip\n",
            "  inflating: limon_manchado/img (1).png  \n",
            "  inflating: limon_manchado/img (100).png  \n",
            "  inflating: limon_manchado/img (101).png  \n",
            "  inflating: limon_manchado/img (102).png  \n",
            "  inflating: limon_manchado/img (103).png  \n",
            "  inflating: limon_manchado/img (104).png  \n",
            "  inflating: limon_manchado/img (105).png  \n",
            "  inflating: limon_manchado/img (106).png  \n",
            "  inflating: limon_manchado/img (107).png  \n",
            "  inflating: limon_manchado/img (108).png  \n",
            "  inflating: limon_manchado/img (12).png  \n",
            "  inflating: limon_manchado/img (13).png  \n",
            "  inflating: limon_manchado/img (14).png  \n",
            "  inflating: limon_manchado/img (15).png  \n",
            "  inflating: limon_manchado/img (150).png  \n",
            "  inflating: limon_manchado/img (151).png  \n",
            "  inflating: limon_manchado/img (152).png  \n",
            "  inflating: limon_manchado/img (153).png  \n",
            "  inflating: limon_manchado/img (16).png  \n",
            "  inflating: limon_manchado/img (169).png  \n",
            "  inflating: limon_manchado/img (17).png  \n",
            "  inflating: limon_manchado/img (170).png  \n",
            "  inflating: limon_manchado/img (171).png  \n",
            "  inflating: limon_manchado/img (172).png  \n",
            "  inflating: limon_manchado/img (173).png  \n",
            "  inflating: limon_manchado/img (174).png  \n",
            "  inflating: limon_manchado/img (175).png  \n",
            "  inflating: limon_manchado/img (176).png  \n",
            "  inflating: limon_manchado/img (177).png  \n",
            "  inflating: limon_manchado/img (178).png  \n",
            "  inflating: limon_manchado/img (18).png  \n",
            "  inflating: limon_manchado/img (184).png  \n",
            "  inflating: limon_manchado/img (185).png  \n",
            "  inflating: limon_manchado/img (186).png  \n",
            "  inflating: limon_manchado/img (187).png  \n",
            "  inflating: limon_manchado/img (188).png  \n",
            "  inflating: limon_manchado/img (189).png  \n",
            "  inflating: limon_manchado/img (19).png  \n",
            "  inflating: limon_manchado/img (190).png  \n",
            "  inflating: limon_manchado/img (191).png  \n",
            "  inflating: limon_manchado/img (192).png  \n",
            "  inflating: limon_manchado/img (193).png  \n",
            "  inflating: limon_manchado/img (194).png  \n",
            "  inflating: limon_manchado/img (195).png  \n",
            "  inflating: limon_manchado/img (196).png  \n",
            "  inflating: limon_manchado/img (2).png  \n",
            "  inflating: limon_manchado/img (20).png  \n",
            "  inflating: limon_manchado/img (21).png  \n",
            "  inflating: limon_manchado/img (22).png  \n",
            "  inflating: limon_manchado/img (23).png  \n",
            "  inflating: limon_manchado/img (232).png  \n",
            "  inflating: limon_manchado/img (233).png  \n",
            "  inflating: limon_manchado/img (234).png  \n",
            "  inflating: limon_manchado/img (235).png  \n",
            "  inflating: limon_manchado/img (236).png  \n",
            "  inflating: limon_manchado/img (237).png  \n",
            "  inflating: limon_manchado/img (238).png  \n",
            "  inflating: limon_manchado/img (239).png  \n",
            "  inflating: limon_manchado/img (24).png  \n",
            "  inflating: limon_manchado/img (240).png  \n",
            "  inflating: limon_manchado/img (241).png  \n",
            "  inflating: limon_manchado/img (25).png  \n",
            "  inflating: limon_manchado/img (252).png  \n",
            "  inflating: limon_manchado/img (253).png  \n",
            "  inflating: limon_manchado/img (254).png  \n",
            "  inflating: limon_manchado/img (255).png  \n",
            "  inflating: limon_manchado/img (256).png  \n",
            "  inflating: limon_manchado/img (257).png  \n",
            "  inflating: limon_manchado/img (258).png  \n",
            "  inflating: limon_manchado/img (259).png  \n",
            "  inflating: limon_manchado/img (26).png  \n",
            "  inflating: limon_manchado/img (260).png  \n",
            "  inflating: limon_manchado/img (261).png  \n",
            "  inflating: limon_manchado/img (27).png  \n",
            "  inflating: limon_manchado/img (272).png  \n",
            "  inflating: limon_manchado/img (273).png  \n",
            "  inflating: limon_manchado/img (274).png  \n",
            "  inflating: limon_manchado/img (275).png  \n",
            "  inflating: limon_manchado/img (276).png  \n",
            "  inflating: limon_manchado/img (277).png  \n",
            "  inflating: limon_manchado/img (278).png  \n",
            "  inflating: limon_manchado/img (279).png  \n",
            "  inflating: limon_manchado/img (28).png  \n",
            "  inflating: limon_manchado/img (280).png  \n",
            "  inflating: limon_manchado/img (281).png  \n",
            "  inflating: limon_manchado/img (282).png  \n",
            "  inflating: limon_manchado/img (283).png  \n",
            "  inflating: limon_manchado/img (284).png  \n",
            "  inflating: limon_manchado/img (285).png  \n",
            "  inflating: limon_manchado/img (286).png  \n",
            "  inflating: limon_manchado/img (304).png  \n",
            "  inflating: limon_manchado/img (305).png  \n",
            "  inflating: limon_manchado/img (306).png  \n",
            "  inflating: limon_manchado/img (307).png  \n",
            "  inflating: limon_manchado/img (308).png  \n",
            "  inflating: limon_manchado/img (309).png  \n",
            "  inflating: limon_manchado/img (310).png  \n",
            "  inflating: limon_manchado/img (311).png  \n",
            "  inflating: limon_manchado/img (312).png  \n",
            "  inflating: limon_manchado/img (313).png  \n",
            "  inflating: limon_manchado/img (314).png  \n",
            "  inflating: limon_manchado/img (315).png  \n",
            "  inflating: limon_manchado/img (316).png  \n",
            "  inflating: limon_manchado/img (317).png  \n",
            "  inflating: limon_manchado/img (318).png  \n",
            "  inflating: limon_manchado/img (319).png  \n",
            "  inflating: limon_manchado/img (320).png  \n",
            "  inflating: limon_manchado/img (321).png  \n",
            "  inflating: limon_manchado/img (322).png  \n",
            "  inflating: limon_manchado/img (323).png  \n",
            "  inflating: limon_manchado/img (324).png  \n",
            "  inflating: limon_manchado/img (325).png  \n",
            "  inflating: limon_manchado/img (326).png  \n",
            "  inflating: limon_manchado/img (327).png  \n",
            "  inflating: limon_manchado/img (328).png  \n",
            "  inflating: limon_manchado/img (329).png  \n",
            "  inflating: limon_manchado/img (330).png  \n",
            "  inflating: limon_manchado/img (331).png  \n",
            "  inflating: limon_manchado/img (332).png  \n",
            "  inflating: limon_manchado/img (333).png  \n",
            "  inflating: limon_manchado/img (352).png  \n",
            "  inflating: limon_manchado/img (353).png  \n",
            "  inflating: limon_manchado/img (354).png  \n",
            "  inflating: limon_manchado/img (355).png  \n",
            "  inflating: limon_manchado/img (356).png  \n",
            "  inflating: limon_manchado/img (357).png  \n",
            "  inflating: limon_manchado/img (358).png  \n",
            "  inflating: limon_manchado/img (359).png  \n",
            "  inflating: limon_manchado/img (360).png  \n",
            "  inflating: limon_manchado/img (361).png  \n",
            "  inflating: limon_manchado/img (362).png  \n",
            "  inflating: limon_manchado/img (363).png  \n",
            "  inflating: limon_manchado/img (364).png  \n",
            "  inflating: limon_manchado/img (365).png  \n",
            "  inflating: limon_manchado/img (366).png  \n",
            "  inflating: limon_manchado/img (367).png  \n",
            "  inflating: limon_manchado/img (368).png  \n",
            "  inflating: limon_manchado/img (369).png  \n",
            "  inflating: limon_manchado/img (370).png  \n",
            "  inflating: limon_manchado/img (371).png  \n",
            "  inflating: limon_manchado/img (372).png  \n",
            "  inflating: limon_manchado/img (373).png  \n",
            "  inflating: limon_manchado/img (374).png  \n",
            "  inflating: limon_manchado/img (375).png  \n",
            "  inflating: limon_manchado/img (376).png  \n",
            "  inflating: limon_manchado/img (377).png  \n",
            "  inflating: limon_manchado/img (378).png  \n",
            "  inflating: limon_manchado/img (379).png  \n",
            "  inflating: limon_manchado/img (380).png  \n",
            "  inflating: limon_manchado/img (381).png  \n",
            "  inflating: limon_manchado/img (382).png  \n",
            "  inflating: limon_manchado/img (383).png  \n",
            "  inflating: limon_manchado/img (384).png  \n",
            "  inflating: limon_manchado/img (385).png  \n",
            "  inflating: limon_manchado/img (386).png  \n",
            "  inflating: limon_manchado/img (387).png  \n",
            "  inflating: limon_manchado/img (388).png  \n",
            "  inflating: limon_manchado/img (389).png  \n",
            "  inflating: limon_manchado/img (390).png  \n",
            "  inflating: limon_manchado/img (391).png  \n",
            "  inflating: limon_manchado/img (392).png  \n",
            "  inflating: limon_manchado/img (393).png  \n",
            "  inflating: limon_manchado/img (394).png  \n",
            "  inflating: limon_manchado/img (395).png  \n",
            "  inflating: limon_manchado/img (396).png  \n",
            "  inflating: limon_manchado/img (397).png  \n",
            "  inflating: limon_manchado/img (398).png  \n",
            "  inflating: limon_manchado/img (399).png  \n",
            "  inflating: limon_manchado/img (400).png  \n",
            "  inflating: limon_manchado/img (401).png  \n",
            "  inflating: limon_manchado/img (402).png  \n",
            "  inflating: limon_manchado/img (403).png  \n",
            "  inflating: limon_manchado/img (404).png  \n",
            "  inflating: limon_manchado/img (405).png  \n",
            "  inflating: limon_manchado/img (406).png  \n",
            "  inflating: limon_manchado/img (407).png  \n",
            "  inflating: limon_manchado/img (408).png  \n",
            "  inflating: limon_manchado/img (409).png  \n",
            "  inflating: limon_manchado/img (410).png  \n",
            "  inflating: limon_manchado/img (411).png  \n",
            "  inflating: limon_manchado/img (412).png  \n",
            "  inflating: limon_manchado/img (413).png  \n",
            "  inflating: limon_manchado/img (414).png  \n",
            "  inflating: limon_manchado/img (415).png  \n",
            "  inflating: limon_manchado/img (416).png  \n",
            "  inflating: limon_manchado/img (417).png  \n",
            "  inflating: limon_manchado/img (418).png  \n",
            "  inflating: limon_manchado/img (419).png  \n",
            "  inflating: limon_manchado/img (420).png  \n",
            "  inflating: limon_manchado/img (421).png  \n",
            "  inflating: limon_manchado/img (422).png  \n",
            "  inflating: limon_manchado/img (423).png  \n",
            "  inflating: limon_manchado/img (424).png  \n",
            "  inflating: limon_manchado/img (425).png  \n",
            "  inflating: limon_manchado/img (426).png  \n",
            "  inflating: limon_manchado/img (427).png  \n",
            "  inflating: limon_manchado/img (468).png  \n",
            "  inflating: limon_manchado/img (469).png  \n",
            "  inflating: limon_manchado/img (470).png  \n",
            "  inflating: limon_manchado/img (471).png  \n",
            "  inflating: limon_manchado/img (472).png  \n",
            "  inflating: limon_manchado/img (473).png  \n",
            "  inflating: limon_manchado/img (474).png  \n",
            "  inflating: limon_manchado/img (475).png  \n",
            "  inflating: limon_manchado/img (476).png  \n",
            "  inflating: limon_manchado/img (477).png  \n",
            "  inflating: limon_manchado/img (478).png  \n",
            "  inflating: limon_manchado/img (479).png  \n",
            "  inflating: limon_manchado/img (480).png  \n",
            "  inflating: limon_manchado/img (481).png  \n",
            "  inflating: limon_manchado/img (482).png  \n",
            "  inflating: limon_manchado/img (483).png  \n",
            "  inflating: limon_manchado/img (484).png  \n",
            "  inflating: limon_manchado/img (485).png  \n",
            "  inflating: limon_manchado/img (486).png  \n",
            "  inflating: limon_manchado/img (487).png  \n",
            "  inflating: limon_manchado/img (488).png  \n",
            "  inflating: limon_manchado/img (489).png  \n",
            "  inflating: limon_manchado/img (490).png  \n",
            "  inflating: limon_manchado/img (491).png  \n",
            "  inflating: limon_manchado/img (492).png  \n",
            "  inflating: limon_manchado/img (493).png  \n",
            "  inflating: limon_manchado/img (494).png  \n",
            "  inflating: limon_manchado/img (495).png  \n",
            "  inflating: limon_manchado/img (496).png  \n",
            "  inflating: limon_manchado/img (497).png  \n",
            "  inflating: limon_manchado/img (498).png  \n",
            "  inflating: limon_manchado/img (499).png  \n",
            "  inflating: limon_manchado/img (500).png  \n",
            "  inflating: limon_manchado/img (501).png  \n",
            "  inflating: limon_manchado/img (502).png  \n",
            "  inflating: limon_manchado/img (503).png  \n",
            "  inflating: limon_manchado/img (504).png  \n",
            "  inflating: limon_manchado/img (505).png  \n",
            "  inflating: limon_manchado/img (506).png  \n",
            "  inflating: limon_manchado/img (507).png  \n",
            "  inflating: limon_manchado/img (508).png  \n",
            "  inflating: limon_manchado/img (509).png  \n",
            "  inflating: limon_manchado/img (510).png  \n",
            "  inflating: limon_manchado/img (511).png  \n",
            "  inflating: limon_manchado/img (512).png  \n",
            "  inflating: limon_manchado/img (513).png  \n",
            "  inflating: limon_manchado/img (514).png  \n",
            "  inflating: limon_manchado/img (515).png  \n",
            "  inflating: limon_manchado/img (516).png  \n",
            "  inflating: limon_manchado/img (517).png  \n",
            "  inflating: limon_manchado/img (518).png  \n",
            "  inflating: limon_manchado/img (519).png  \n",
            "  inflating: limon_manchado/img (520).png  \n",
            "  inflating: limon_manchado/img (521).png  \n",
            "  inflating: limon_manchado/img (522).png  \n",
            "  inflating: limon_manchado/img (528).png  \n",
            "  inflating: limon_manchado/img (529).png  \n",
            "  inflating: limon_manchado/img (530).png  \n",
            "  inflating: limon_manchado/img (531).png  \n",
            "  inflating: limon_manchado/img (532).png  \n",
            "  inflating: limon_manchado/img (533).png  \n",
            "  inflating: limon_manchado/img (534).png  \n",
            "  inflating: limon_manchado/img (535).png  \n",
            "  inflating: limon_manchado/img (536).png  \n",
            "  inflating: limon_manchado/img (537).png  \n",
            "  inflating: limon_manchado/img (538).png  \n",
            "  inflating: limon_manchado/img (539).png  \n",
            "  inflating: limon_manchado/img (540).png  \n",
            "  inflating: limon_manchado/img (541).png  \n",
            "  inflating: limon_manchado/img (542).png  \n",
            "  inflating: limon_manchado/img (543).png  \n",
            "  inflating: limon_manchado/img (544).png  \n",
            "  inflating: limon_manchado/img (545).png  \n",
            "  inflating: limon_manchado/img (546).png  \n",
            "  inflating: limon_manchado/img (547).png  \n",
            "  inflating: limon_manchado/img (548).png  \n",
            "  inflating: limon_manchado/img (565).png  \n",
            "  inflating: limon_manchado/img (566).png  \n",
            "  inflating: limon_manchado/img (567).png  \n",
            "  inflating: limon_manchado/img (568).png  \n",
            "  inflating: limon_manchado/img (569).png  \n",
            "  inflating: limon_manchado/img (570).png  \n",
            "  inflating: limon_manchado/img (571).png  \n",
            "  inflating: limon_manchado/img (572).png  \n",
            "  inflating: limon_manchado/img (573).png  \n",
            "  inflating: limon_manchado/img (574).png  \n",
            "  inflating: limon_manchado/img (575).png  \n",
            "  inflating: limon_manchado/img (576).png  \n",
            "  inflating: limon_manchado/img (577).png  \n",
            "  inflating: limon_manchado/img (578).png  \n",
            "  inflating: limon_manchado/img (579).png  \n",
            "  inflating: limon_manchado/img (580).png  \n",
            "  inflating: limon_manchado/img (581).png  \n",
            "  inflating: limon_manchado/img (582).png  \n",
            "  inflating: limon_manchado/img (583).png  \n",
            "  inflating: limon_manchado/img (584).png  \n",
            "  inflating: limon_manchado/img (585).png  \n",
            "  inflating: limon_manchado/img (586).png  \n",
            "  inflating: limon_manchado/img (587).png  \n",
            "  inflating: limon_manchado/img (588).png  \n",
            "  inflating: limon_manchado/img (589).png  \n",
            "  inflating: limon_manchado/img (590).png  \n",
            "  inflating: limon_manchado/img (591).png  \n",
            "  inflating: limon_manchado/img (592).png  \n",
            "  inflating: limon_manchado/img (593).png  \n",
            "  inflating: limon_manchado/img (594).png  \n",
            "  inflating: limon_manchado/img (595).png  \n",
            "  inflating: limon_manchado/img (596).png  \n",
            "  inflating: limon_manchado/img (597).png  \n",
            "  inflating: limon_manchado/img (74).png  \n",
            "  inflating: limon_manchado/img (75).png  \n",
            "  inflating: limon_manchado/img (76).png  \n",
            "  inflating: limon_manchado/img (77).png  \n",
            "  inflating: limon_manchado/img (78).png  \n",
            "  inflating: limon_manchado/img (79).png  \n",
            "  inflating: limon_manchado/img (80).png  \n",
            "  inflating: limon_manchado/img (81).png  \n",
            "  inflating: limon_manchado/img (82).png  \n",
            "  inflating: limon_manchado/img (83).png  \n",
            "  inflating: limon_manchado/img (84).png  \n",
            "  inflating: limon_manchado/img (85).png  \n",
            "  inflating: limon_manchado/img (86).png  \n",
            "  inflating: limon_manchado/img (87).png  \n",
            "  inflating: limon_manchado/img (88).png  \n",
            "  inflating: limon_manchado/img (89).png  \n",
            "  inflating: limon_manchado/img (90).png  \n",
            "  inflating: limon_manchado/img (91).png  \n",
            "  inflating: limon_manchado/img (92).png  \n",
            "  inflating: limon_manchado/img (93).png  \n",
            "  inflating: limon_manchado/img (94).png  \n",
            "  inflating: limon_manchado/img (95).png  \n",
            "  inflating: limon_manchado/img (96).png  \n",
            "  inflating: limon_manchado/img (97).png  \n",
            "  inflating: limon_manchado/img (98).png  \n",
            "  inflating: limon_manchado/img (99).png  \n",
            "Archive:  limon_podrido.zip\n",
            "  inflating: limon_podrido/img (179).png  \n",
            "  inflating: limon_podrido/img (180).png  \n",
            "  inflating: limon_podrido/img (181).png  \n",
            "  inflating: limon_podrido/img (182).png  \n",
            "  inflating: limon_podrido/img (183).png  \n",
            "  inflating: limon_podrido/img (207).png  \n",
            "  inflating: limon_podrido/img (208).png  \n",
            "  inflating: limon_podrido/img (209).png  \n",
            "  inflating: limon_podrido/img (210).png  \n",
            "  inflating: limon_podrido/img (211).png  \n",
            "  inflating: limon_podrido/img (212).png  \n",
            "  inflating: limon_podrido/img (213).png  \n",
            "  inflating: limon_podrido/img (214).png  \n",
            "  inflating: limon_podrido/img (215).png  \n",
            "  inflating: limon_podrido/img (216).png  \n",
            "  inflating: limon_podrido/img (217).png  \n",
            "  inflating: limon_podrido/img (218).png  \n",
            "  inflating: limon_podrido/img (219).png  \n",
            "  inflating: limon_podrido/img (220).png  \n",
            "  inflating: limon_podrido/img (221).png  \n",
            "  inflating: limon_podrido/img (222).png  \n",
            "  inflating: limon_podrido/img (223).png  \n",
            "  inflating: limon_podrido/img (224).png  \n",
            "  inflating: limon_podrido/img (225).png  \n",
            "  inflating: limon_podrido/img (226).png  \n",
            "  inflating: limon_podrido/img (227).png  \n",
            "  inflating: limon_podrido/img (228).png  \n",
            "  inflating: limon_podrido/img (229).png  \n",
            "  inflating: limon_podrido/img (230).png  \n",
            "  inflating: limon_podrido/img (231).png  \n",
            "  inflating: limon_podrido/img (242).png  \n",
            "  inflating: limon_podrido/img (243).png  \n",
            "  inflating: limon_podrido/img (244).png  \n",
            "  inflating: limon_podrido/img (245).png  \n",
            "  inflating: limon_podrido/img (246).png  \n",
            "  inflating: limon_podrido/img (247).png  \n",
            "  inflating: limon_podrido/img (248).png  \n",
            "  inflating: limon_podrido/img (249).png  \n",
            "  inflating: limon_podrido/img (250).png  \n",
            "  inflating: limon_podrido/img (251).png  \n",
            "  inflating: limon_podrido/img (262).png  \n",
            "  inflating: limon_podrido/img (263).png  \n",
            "  inflating: limon_podrido/img (264).png  \n",
            "  inflating: limon_podrido/img (265).png  \n",
            "  inflating: limon_podrido/img (266).png  \n",
            "  inflating: limon_podrido/img (267).png  \n",
            "  inflating: limon_podrido/img (268).png  \n",
            "  inflating: limon_podrido/img (269).png  \n",
            "  inflating: limon_podrido/img (270).png  \n",
            "  inflating: limon_podrido/img (271).png  \n",
            "  inflating: limon_podrido/img (287).png  \n",
            "  inflating: limon_podrido/img (288).png  \n",
            "  inflating: limon_podrido/img (289).png  \n",
            "  inflating: limon_podrido/img (29).png  \n",
            "  inflating: limon_podrido/img (290).png  \n",
            "  inflating: limon_podrido/img (291).png  \n",
            "  inflating: limon_podrido/img (292).png  \n",
            "  inflating: limon_podrido/img (293).png  \n",
            "  inflating: limon_podrido/img (294).png  \n",
            "  inflating: limon_podrido/img (295).png  \n",
            "  inflating: limon_podrido/img (296).png  \n",
            "  inflating: limon_podrido/img (297).png  \n",
            "  inflating: limon_podrido/img (298).png  \n",
            "  inflating: limon_podrido/img (299).png  \n",
            "  inflating: limon_podrido/img (30).png  \n",
            "  inflating: limon_podrido/img (300).png  \n",
            "  inflating: limon_podrido/img (301).png  \n",
            "  inflating: limon_podrido/img (302).png  \n",
            "  inflating: limon_podrido/img (303).png  \n",
            "  inflating: limon_podrido/img (31).png  \n",
            "  inflating: limon_podrido/img (32).png  \n",
            "  inflating: limon_podrido/img (33).png  \n",
            "  inflating: limon_podrido/img (34).png  \n",
            "  inflating: limon_podrido/img (342).png  \n",
            "  inflating: limon_podrido/img (343).png  \n",
            "  inflating: limon_podrido/img (344).png  \n",
            "  inflating: limon_podrido/img (345).png  \n",
            "  inflating: limon_podrido/img (346).png  \n",
            "  inflating: limon_podrido/img (347).png  \n",
            "  inflating: limon_podrido/img (348).png  \n",
            "  inflating: limon_podrido/img (349).png  \n",
            "  inflating: limon_podrido/img (35).png  \n",
            "  inflating: limon_podrido/img (350).png  \n",
            "  inflating: limon_podrido/img (351).png  \n",
            "  inflating: limon_podrido/img (36).png  \n",
            "  inflating: limon_podrido/img (37).png  \n",
            "  inflating: limon_podrido/img (38).png  \n",
            "  inflating: limon_podrido/img (39).png  \n",
            "  inflating: limon_podrido/img (40).png  \n",
            "  inflating: limon_podrido/img (41).png  \n",
            "  inflating: limon_podrido/img (42).png  \n",
            "  inflating: limon_podrido/img (43).png  \n",
            "  inflating: limon_podrido/img (44).png  \n",
            "  inflating: limon_podrido/img (45).png  \n",
            "  inflating: limon_podrido/img (46).png  \n",
            "  inflating: limon_podrido/img (47).png  \n",
            "  inflating: limon_podrido/img (48).png  \n",
            "  inflating: limon_podrido/img (523).png  \n",
            "  inflating: limon_podrido/img (524).png  \n",
            "  inflating: limon_podrido/img (525).png  \n",
            "  inflating: limon_podrido/img (526).png  \n",
            "  inflating: limon_podrido/img (527).png  \n",
            "  inflating: limon_podrido/img (549).png  \n",
            "  inflating: limon_podrido/img (550).png  \n",
            "  inflating: limon_podrido/img (551).png  \n",
            "  inflating: limon_podrido/img (552).png  \n",
            "  inflating: limon_podrido/img (553).png  \n",
            "Archive:  limon_sano.zip\n",
            "  inflating: limon_sano/img (10).png  \n",
            "  inflating: limon_sano/img (109).png  \n",
            "  inflating: limon_sano/img (11).png  \n",
            "  inflating: limon_sano/img (110).png  \n",
            "  inflating: limon_sano/img (111).png  \n",
            "  inflating: limon_sano/img (112).png  \n",
            "  inflating: limon_sano/img (113).png  \n",
            "  inflating: limon_sano/img (114).png  \n",
            "  inflating: limon_sano/img (115).png  \n",
            "  inflating: limon_sano/img (116).png  \n",
            "  inflating: limon_sano/img (117).png  \n",
            "  inflating: limon_sano/img (118).png  \n",
            "  inflating: limon_sano/img (119).png  \n",
            "  inflating: limon_sano/img (120).png  \n",
            "  inflating: limon_sano/img (121).png  \n",
            "  inflating: limon_sano/img (122).png  \n",
            "  inflating: limon_sano/img (123).png  \n",
            "  inflating: limon_sano/img (124).png  \n",
            "  inflating: limon_sano/img (125).png  \n",
            "  inflating: limon_sano/img (126).png  \n",
            "  inflating: limon_sano/img (127).png  \n",
            "  inflating: limon_sano/img (128).png  \n",
            "  inflating: limon_sano/img (129).png  \n",
            "  inflating: limon_sano/img (130).png  \n",
            "  inflating: limon_sano/img (131).png  \n",
            "  inflating: limon_sano/img (132).png  \n",
            "  inflating: limon_sano/img (133).png  \n",
            "  inflating: limon_sano/img (134).png  \n",
            "  inflating: limon_sano/img (135).png  \n",
            "  inflating: limon_sano/img (136).png  \n",
            "  inflating: limon_sano/img (137).png  \n",
            "  inflating: limon_sano/img (138).png  \n",
            "  inflating: limon_sano/img (139).png  \n",
            "  inflating: limon_sano/img (140).png  \n",
            "  inflating: limon_sano/img (141).png  \n",
            "  inflating: limon_sano/img (142).png  \n",
            "  inflating: limon_sano/img (143).png  \n",
            "  inflating: limon_sano/img (144).png  \n",
            "  inflating: limon_sano/img (145).png  \n",
            "  inflating: limon_sano/img (146).png  \n",
            "  inflating: limon_sano/img (147).png  \n",
            "  inflating: limon_sano/img (148).png  \n",
            "  inflating: limon_sano/img (149).png  \n",
            "  inflating: limon_sano/img (154).png  \n",
            "  inflating: limon_sano/img (155).png  \n",
            "  inflating: limon_sano/img (156).png  \n",
            "  inflating: limon_sano/img (157).png  \n",
            "  inflating: limon_sano/img (158).png  \n",
            "  inflating: limon_sano/img (159).png  \n",
            "  inflating: limon_sano/img (160).png  \n",
            "  inflating: limon_sano/img (161).png  \n",
            "  inflating: limon_sano/img (162).png  \n",
            "  inflating: limon_sano/img (163).png  \n",
            "  inflating: limon_sano/img (164).png  \n",
            "  inflating: limon_sano/img (165).png  \n",
            "  inflating: limon_sano/img (166).png  \n",
            "  inflating: limon_sano/img (167).png  \n",
            "  inflating: limon_sano/img (168).png  \n",
            "  inflating: limon_sano/img (197).png  \n",
            "  inflating: limon_sano/img (198).png  \n",
            "  inflating: limon_sano/img (199).png  \n",
            "  inflating: limon_sano/img (200).png  \n",
            "  inflating: limon_sano/img (201).png  \n",
            "  inflating: limon_sano/img (202).png  \n",
            "  inflating: limon_sano/img (203).png  \n",
            "  inflating: limon_sano/img (204).png  \n",
            "  inflating: limon_sano/img (205).png  \n",
            "  inflating: limon_sano/img (206).png  \n",
            "  inflating: limon_sano/img (3).png  \n",
            "  inflating: limon_sano/img (4).png  \n",
            "  inflating: limon_sano/img (49).png  \n",
            "  inflating: limon_sano/img (5).png  \n",
            "  inflating: limon_sano/img (50).png  \n",
            "  inflating: limon_sano/img (51).png  \n",
            "  inflating: limon_sano/img (52).png  \n",
            "  inflating: limon_sano/img (53).png  \n",
            "  inflating: limon_sano/img (54).png  \n",
            "  inflating: limon_sano/img (55).png  \n",
            "  inflating: limon_sano/img (56).png  \n",
            "  inflating: limon_sano/img (57).png  \n",
            "  inflating: limon_sano/img (58).png  \n",
            "  inflating: limon_sano/img (59).png  \n",
            "  inflating: limon_sano/img (6).png  \n",
            "  inflating: limon_sano/img (60).png  \n",
            "  inflating: limon_sano/img (61).png  \n",
            "  inflating: limon_sano/img (62).png  \n",
            "  inflating: limon_sano/img (63).png  \n",
            "  inflating: limon_sano/img (64).png  \n",
            "  inflating: limon_sano/img (65).png  \n",
            "  inflating: limon_sano/img (66).png  \n",
            "  inflating: limon_sano/img (67).png  \n",
            "  inflating: limon_sano/img (68).png  \n",
            "  inflating: limon_sano/img (69).png  \n",
            "  inflating: limon_sano/img (7).png  \n",
            "  inflating: limon_sano/img (70).png  \n",
            "  inflating: limon_sano/img (71).png  \n",
            "  inflating: limon_sano/img (72).png  \n",
            "  inflating: limon_sano/img (73).png  \n",
            "  inflating: limon_sano/img (8).png  \n",
            "  inflating: limon_sano/img (9).png  \n"
          ],
          "name": "stdout"
        }
      ]
    },
    {
      "cell_type": "code",
      "metadata": {
        "id": "yK64Xnw5RK4f",
        "colab_type": "code",
        "colab": {
          "base_uri": "https://localhost:8080/",
          "height": 218
        },
        "outputId": "dfb79111-d389-4b73-9c9b-6027ef7a08a7"
      },
      "source": [
        "os.mkdir('train/')\n",
        "import shutil\n",
        "\n",
        "location1='limon_manchado'\n",
        "location2='limon_podrido'\n",
        "location3='limon_sano'\n",
        "destination1='train/limon_manchado'\n",
        "destination2='train/limon_podrido'\n",
        "destination3='train/limon_sano'\n",
        "\n",
        "dest1=shutil.move(location1,destination1)\n",
        "dest2=shutil.move(location2,destination2)\n",
        "dest3=shutil.move(location3,destination3)"
      ],
      "execution_count": 8,
      "outputs": [
        {
          "output_type": "error",
          "ename": "NameError",
          "evalue": "ignored",
          "traceback": [
            "\u001b[0;31m---------------------------------------------------------------------------\u001b[0m",
            "\u001b[0;31mNameError\u001b[0m                                 Traceback (most recent call last)",
            "\u001b[0;32m<ipython-input-8-617da9423380>\u001b[0m in \u001b[0;36m<module>\u001b[0;34m()\u001b[0m\n\u001b[1;32m     10\u001b[0m \u001b[0;34m\u001b[0m\u001b[0m\n\u001b[1;32m     11\u001b[0m \u001b[0mdest1\u001b[0m\u001b[0;34m=\u001b[0m\u001b[0mshutil\u001b[0m\u001b[0;34m.\u001b[0m\u001b[0mmove\u001b[0m\u001b[0;34m(\u001b[0m\u001b[0mlocation1\u001b[0m\u001b[0;34m,\u001b[0m\u001b[0mdestination1\u001b[0m\u001b[0;34m)\u001b[0m\u001b[0;34m\u001b[0m\u001b[0;34m\u001b[0m\u001b[0m\n\u001b[0;32m---> 12\u001b[0;31m \u001b[0mdest2\u001b[0m\u001b[0;34m=\u001b[0m\u001b[0mshutil\u001b[0m\u001b[0;34m.\u001b[0m\u001b[0mmove\u001b[0m\u001b[0;34m(\u001b[0m\u001b[0mlocation2\u001b[0m\u001b[0;34m,\u001b[0m\u001b[0mdestination2\u001b[0m\u001b[0;34m)\u001b[0m\u001b[0;34m\u001b[0m\u001b[0;34m\u001b[0m\u001b[0m\n\u001b[0m\u001b[1;32m     13\u001b[0m \u001b[0mdest3\u001b[0m\u001b[0;34m=\u001b[0m\u001b[0mshutil\u001b[0m\u001b[0;34m.\u001b[0m\u001b[0mmove\u001b[0m\u001b[0;34m(\u001b[0m\u001b[0mlocation3\u001b[0m\u001b[0;34m,\u001b[0m\u001b[0mdestination3\u001b[0m\u001b[0;34m)\u001b[0m\u001b[0;34m\u001b[0m\u001b[0;34m\u001b[0m\u001b[0m\n",
            "\u001b[0;31mNameError\u001b[0m: name 'destination2' is not defined"
          ]
        }
      ]
    },
    {
      "cell_type": "markdown",
      "metadata": {
        "id": "HA69CPvROvk5",
        "colab_type": "text"
      },
      "source": [
        "### Prepare training and validation  dataset\n",
        "Create the training and validation directories "
      ]
    },
    {
      "cell_type": "code",
      "metadata": {
        "id": "PhB3buj3OoKP",
        "colab_type": "code",
        "colab": {}
      },
      "source": [
        "import sys, os\n",
        "from os.path import exists\n",
        "\n",
        "data_dir = os.path.join('.')\n",
        "train_dir = os.path.join(data_dir, 'train')\n",
        "validation_dir = os.path.join(data_dir, 'validation')\n",
        "trainfiles = os.listdir(os.path.join(data_dir, 'train'))\n",
        "trainfiles"
      ],
      "execution_count": 0,
      "outputs": []
    },
    {
      "cell_type": "code",
      "metadata": {
        "id": "bDUxGnMdkmE8",
        "colab_type": "code",
        "colab": {}
      },
      "source": [
        "\n",
        "import time\n",
        "import os\n",
        "from os.path import exists\n",
        "\n",
        "def count(dir, counter=0):\n",
        "    \"returns number of files in dir and subdirs\"\n",
        "    for pack in os.walk(dir):\n",
        "        for f in pack[2]:\n",
        "            counter += 1\n",
        "    return dir + \" : \" + str(counter) + \"files\"\n"
      ],
      "execution_count": 0,
      "outputs": []
    },
    {
      "cell_type": "code",
      "metadata": {
        "id": "lwFeDj4ughkE",
        "colab_type": "code",
        "colab": {}
      },
      "source": [
        "print('total images for training :', count(train_dir))\n",
        "print('total images for validation :', count(validation_dir))\n"
      ],
      "execution_count": 0,
      "outputs": []
    },
    {
      "cell_type": "markdown",
      "metadata": {
        "id": "sKbwKt0_aL_D",
        "colab_type": "text"
      },
      "source": [
        "### Label mapping\n",
        "\n",
        "You'll also need to load in a mapping from category label to category name. You can find this in the file `categories.json`. It's a JSON object which you can read in with the [`json` module](https://docs.python.org/2/library/json.html). This will give you a dictionary mapping the integer encoded categories to the actual names of the plants and diseases."
      ]
    },
    {
      "cell_type": "code",
      "metadata": {
        "id": "FCf_N7v3HBzB",
        "colab_type": "code",
        "colab": {}
      },
      "source": [
        "import json\n",
        "#from google.colab import files\n",
        "drive.mount('/content/gdrive/My Drive/Lemonator/Lemonator/categories/')\n",
        "#files.download('categories.json')\n",
        "\n",
        "with open('categories.json', 'r') as f:\n",
        "    cat_to_name = json.load(f)\n",
        "    classes = list(cat_to_name.values())\n",
        "    \n",
        "print (classes)"
      ],
      "execution_count": 0,
      "outputs": []
    },
    {
      "cell_type": "code",
      "metadata": {
        "id": "hzILXef8Um5v",
        "colab_type": "code",
        "colab": {}
      },
      "source": [
        "print('Number of classes:',len(classes))"
      ],
      "execution_count": 0,
      "outputs": []
    },
    {
      "cell_type": "markdown",
      "metadata": {
        "id": "5VeSPT_J0otV",
        "colab_type": "text"
      },
      "source": [
        "###Setup Image shape and  batch size"
      ]
    },
    {
      "cell_type": "code",
      "metadata": {
        "id": "lyCAYjNT09ja",
        "colab_type": "code",
        "colab": {}
      },
      "source": [
        "IMAGE_SHAPE = (224, 224)\n",
        "\n",
        "BATCH_SIZE =  32#@param {type:\"integer\"}"
      ],
      "execution_count": 0,
      "outputs": []
    },
    {
      "cell_type": "markdown",
      "metadata": {
        "id": "ypePvgaXw5Lm",
        "colab_type": "text"
      },
      "source": [
        "### Data Preprocessing\n",
        "\n",
        "Let's set up data generators that will read pictures in our source folders, convert them to `float32` tensors, and feed them (with their labels) to our network. \n",
        "\n",
        "As you may already know, data that goes into neural networks should usually be normalized in some way to make it more amenable to processing by the network. (It is uncommon to feed raw pixels into a convnet.) In our case, we will preprocess our images by normalizing the pixel values to be in the `[0, 1]` range (originally all values are in the `[0, 255]` range).\n",
        "\n"
      ]
    },
    {
      "cell_type": "code",
      "metadata": {
        "id": "JRrsFKez6fFf",
        "colab_type": "code",
        "colab": {}
      },
      "source": [
        "# Inputs are suitably resized for the selected module. Dataset augmentation (i.e., random distortions of an image each time it is read) improves training, esp. when fine-tuning.\n",
        "\n",
        "validation_datagen = tf.keras.preprocessing.image.ImageDataGenerator(rescale=1./255)\n",
        "validation_generator = validation_datagen.flow_from_directory(\n",
        "    validation_dir, \n",
        "    shuffle=False, \n",
        "    seed=42,\n",
        "    color_mode=\"rgb\", \n",
        "    class_mode=\"categorical\",\n",
        "    target_size=IMAGE_SHAPE,\n",
        "    batch_size=BATCH_SIZE)\n",
        "\n",
        "do_data_augmentation = True #@param {type:\"boolean\"}\n",
        "if do_data_augmentation:\n",
        "  train_datagen = tf.keras.preprocessing.image.ImageDataGenerator(\n",
        "      rescale = 1./255,\n",
        "      rotation_range=40,\n",
        "      horizontal_flip=True,\n",
        "      width_shift_range=0.2, \n",
        "      height_shift_range=0.2,\n",
        "      shear_range=0.2, \n",
        "      zoom_range=0.2,\n",
        "      fill_mode='nearest' )\n",
        "else:\n",
        "  train_datagen = validation_datagen\n",
        "  \n",
        "train_generator = train_datagen.flow_from_directory(\n",
        "    train_dir, \n",
        "    subset=\"training\", \n",
        "    shuffle=True, \n",
        "    seed=42,\n",
        "    color_mode=\"rgb\", \n",
        "    class_mode=\"categorical\",\n",
        "    target_size=IMAGE_SHAPE,\n",
        "    batch_size=BATCH_SIZE)\n"
      ],
      "execution_count": 0,
      "outputs": []
    },
    {
      "cell_type": "markdown",
      "metadata": {
        "id": "3Afm5Jn42E4T",
        "colab_type": "text"
      },
      "source": [
        "###Build the model\n",
        "All it takes is to put a linear classifier on top of the feature_extractor_layer with the Hub module.\n",
        "\n",
        "For speed, we start out with a non-trainable feature_extractor_layer, but you can also enable fine-tuning for greater accuracy."
      ]
    },
    {
      "cell_type": "code",
      "metadata": {
        "id": "igEMU_ip7lnC",
        "colab_type": "code",
        "colab": {}
      },
      "source": [
        "\n",
        "model = tf.keras.Sequential([\n",
        "  hub.KerasLayer(\"https://tfhub.dev/google/tf2-preview/mobilenet_v2/feature_vector/4\", \n",
        "                 output_shape=[1280],\n",
        "                 trainable=False),\n",
        "  tf.keras.layers.Dropout(0.1), ##0.4\n",
        "  tf.keras.layers.Dense(512, activation='sigmoid'),##relu\n",
        "  tf.keras.layers.Dropout(rate=0.1), ##0.2\n",
        "  tf.keras.layers.Dense(512, activation='sigmoid'),##relu ## line added\n",
        "  tf.keras.layers.Dropout(rate=0.1), ##0.2 ## line added\n",
        "  tf.keras.layers.Dense(train_generator.num_classes, activation='softmax')\n",
        "])\n"
      ],
      "execution_count": 0,
      "outputs": []
    },
    {
      "cell_type": "markdown",
      "metadata": {
        "id": "PGGphhh8Vu50",
        "colab_type": "text"
      },
      "source": [
        "### Specify Loss Function and Optimizer"
      ]
    },
    {
      "cell_type": "code",
      "metadata": {
        "id": "cq5rzR-vV7tn",
        "colab_type": "code",
        "colab": {}
      },
      "source": [
        "#Compile model specifying the optimizer learning rate\n",
        "\n",
        "LEARNING_RATE = 0.001 #@param {type:\"number\"} \n",
        "#0.001\n",
        "model.compile(\n",
        "   optimizer=tf.keras.optimizers.Adam(lr=LEARNING_RATE), \n",
        "   loss='categorical_crossentropy',\n",
        "   metrics=['accuracy'])\n",
        "\n"
      ],
      "execution_count": 0,
      "outputs": []
    },
    {
      "cell_type": "markdown",
      "metadata": {
        "id": "ia50ckJ6-rVr",
        "colab_type": "text"
      },
      "source": [
        "### Train Model\n",
        "train model using validation dataset for validate each steps"
      ]
    },
    {
      "cell_type": "code",
      "metadata": {
        "id": "Cf1FVwyCRI8o",
        "colab_type": "code",
        "colab": {}
      },
      "source": [
        "\n",
        "EPOCHS=50 #@param {type:\"integer\"}\n",
        "#10\n",
        "history = model.fit_generator(\n",
        "        train_generator,\n",
        "        steps_per_epoch=train_generator.samples//train_generator.batch_size,\n",
        "        epochs=EPOCHS,\n",
        "        validation_data=validation_generator,\n",
        "        validation_steps=validation_generator.samples//validation_generator.batch_size)"
      ],
      "execution_count": 0,
      "outputs": []
    },
    {
      "cell_type": "markdown",
      "metadata": {
        "id": "pLa4bHwbPNWD",
        "colab_type": "text"
      },
      "source": [
        "###Check Performance\n",
        "Plot training and validation accuracy and loss"
      ]
    },
    {
      "cell_type": "markdown",
      "metadata": {
        "id": "aNzdageWS6k5",
        "colab_type": "text"
      },
      "source": [
        "### Testting\n",
        "Random sample images from validation dataset and predict"
      ]
    },
    {
      "cell_type": "code",
      "metadata": {
        "id": "MebzL-dpwDgN",
        "colab_type": "code",
        "colab": {}
      },
      "source": [
        "# Visualize training history\n",
        "from keras.models import Sequential\n",
        "from keras.layers import Dense\n",
        "import matplotlib.pyplot as plt\n",
        "import numpy\n"
      ],
      "execution_count": 0,
      "outputs": []
    },
    {
      "cell_type": "code",
      "metadata": {
        "id": "6t7lRKFhwDoD",
        "colab_type": "code",
        "colab": {}
      },
      "source": [
        "# list all data in history\n",
        "print(history.history.keys())\n",
        "# summarize history for accuracy\n",
        "plt.plot(history.history['acc'])\n",
        "plt.plot(history.history['val_acc'])\n",
        "plt.title('model accuracy')\n",
        "plt.ylabel('accuracy')\n",
        "plt.xlabel('epoch')\n",
        "plt.legend(['train', 'test'], loc='upper left')\n",
        "plt.show()\n",
        "# summarize history for loss\n",
        "plt.plot(history.history['loss'])\n",
        "plt.plot(history.history['val_loss'])\n",
        "plt.title('model loss')\n",
        "plt.ylabel('loss')\n",
        "plt.xlabel('epoch')\n",
        "plt.legend(['train', 'test'], loc='upper left')\n",
        "plt.show()"
      ],
      "execution_count": 0,
      "outputs": []
    },
    {
      "cell_type": "code",
      "metadata": {
        "id": "l1jIf7rKTBLx",
        "colab_type": "code",
        "colab": {}
      },
      "source": [
        "# Import OpenCV\n",
        "import cv2\n",
        "\n",
        "# Utility\n",
        "import itertools\n",
        "import random\n",
        "from collections import Counter\n",
        "from glob import iglob\n",
        "import skimage\n",
        "from skimage import io\n",
        "\n",
        "\n",
        "def load_image(filename):\n",
        "    img = skimage.io.imread(os.path.join(data_dir, validation_dir, filename))\n",
        "    img = cv2.resize(img, (IMAGE_SHAPE[0], IMAGE_SHAPE[1]) )\n",
        "    img = img /255\n",
        "    \n",
        "    return img\n",
        "\n",
        "\n",
        "def predict(image):\n",
        "    probabilities = model.predict(np.asarray([img]))[0]\n",
        "    class_idx = np.argmax(probabilities)\n",
        "    \n",
        "    return {classes[class_idx]: probabilities[class_idx]}"
      ],
      "execution_count": 0,
      "outputs": []
    },
    {
      "cell_type": "code",
      "metadata": {
        "id": "tKZduGZoTFSg",
        "colab_type": "code",
        "colab": {}
      },
      "source": [
        "import numpy as np\n",
        "\n",
        "for idx, filename in enumerate(random.sample(validation_generator.filenames, 5)):\n",
        "    print(\"SOURCE: class: %s, file: %s\" % (os.path.split(filename)[0], filename))\n",
        "    \n",
        "    img = load_image(filename)\n",
        "    prediction = predict(img)\n",
        "    print(\"PREDICTED: class: %s, confidence: %f\" % (list(prediction.keys())[0], list(prediction.values())[0]))\n",
        "    plt.imshow(img)\n",
        "    plt.figure(idx)    \n",
        "    plt.show()"
      ],
      "execution_count": 0,
      "outputs": []
    },
    {
      "cell_type": "markdown",
      "metadata": {
        "id": "cPL2q9noVexF",
        "colab_type": "text"
      },
      "source": [
        "# Images and CCI "
      ]
    },
    {
      "cell_type": "markdown",
      "metadata": {
        "id": "AJvgWw2BmxFH",
        "colab_type": "text"
      },
      "source": [
        "## Heatmap"
      ]
    },
    {
      "cell_type": "code",
      "metadata": {
        "id": "ydxnWcUNYaDF",
        "colab_type": "code",
        "colab": {}
      },
      "source": [
        "import skimage\n",
        "from skimage import io\n",
        "\n",
        "img = skimage.io.imread(os.path.join(data_dir, \"img (13).png\"))\n",
        "gray_img = cv2.cvtColor(img, cv2.COLOR_BGR2GRAY)\n",
        "heatmap_img = cv2.applyColorMap(gray_img, cv2.COLORMAP_JET)\n",
        "fin = cv2.addWeighted(heatmap_img, 0.7, img, 0.3, 0)"
      ],
      "execution_count": 0,
      "outputs": []
    },
    {
      "cell_type": "markdown",
      "metadata": {
        "id": "-HYLRfzEm68E",
        "colab_type": "text"
      },
      "source": [
        "### CCI"
      ]
    },
    {
      "cell_type": "code",
      "metadata": {
        "id": "G6LGDmkom8gi",
        "colab_type": "code",
        "colab": {}
      },
      "source": [
        "import numpy as np\n",
        "import cv2 as cv\n",
        "import matplotlib.pyplot as plt\n",
        "import glob\n"
      ],
      "execution_count": 0,
      "outputs": []
    },
    {
      "cell_type": "code",
      "metadata": {
        "id": "KBADOthapAR1",
        "colab_type": "code",
        "colab": {}
      },
      "source": [
        "#for filename in glob.glob(r'C:\\Users\\caoti\\Desktop\\Lemon Images\\Processed\\miniset/*.png'):\n",
        " im = skimage.io.imread('img (1).png') # Cargamos y guardamos la imagen en turno\n",
        " plt.imshow(im)\n",
        " plt.title(filename)\n",
        " plt.show()\n",
        " im = im.reshape(-1,3) # Se cambian las dimensiones de la imagen de mxnx3 a (mxn)x3\n",
        " im.tolist() # Se cambia el tipo de dato de np.array a lista\n",
        " sl = [] # Una lista vacía que servirá de apoyo\n",
        "\n",
        "    ### En este ciclo se calcula el CCI para cada tríada de píxeles de la imagen\n",
        "    ### Si todos los valores son 0, entonces no ejecuta nada. Si no se cumple la\n",
        "    ### condición, entonces se hace el cálculo.\n",
        "    ### Al final del ciclo despliega el valor promedio del CCI"
      ],
      "execution_count": 0,
      "outputs": []
    },
    {
      "cell_type": "code",
      "metadata": {
        "id": "rRg3Y-D2pAZe",
        "colab_type": "code",
        "colab": {}
      },
      "source": [
        "import numpy as np\n",
        "import math\n",
        "# import cv2 as cv\n",
        "\n",
        "def rgb2Hunter(*args):\n",
        "\t\"\"\"Toma los pixles RGB de una imagen\n",
        "\ty devuelve los valores en XYZ \"\"\"\n",
        "\n",
        "\tXn = 95.0489\n",
        "\tYn = 100\n",
        "\tZn = 108.8840\n",
        "\t\n",
        "\t# Leemos la imagen\n",
        "\t# image = cv.imread(args)\n",
        "\n",
        "\t# Se cambian las dimensiones de la imagen\n",
        "\t# image.reshape(-1,3)\n",
        "\n",
        "\t# for i in image:\n",
        "\tfor i in args:\n",
        "\t\tif all(i) == False:\n",
        "\t\t\tHl = 0\n",
        "\t\t\tHa = 0\n",
        "\t\t\tHb = 0\t\t\n",
        "\t\telse:\n",
        "\t\t\t# Se normalizan los canales RGB \n",
        "\t\t\tvr = (i[2]) / 255\n",
        "\t\t\tvg = (i[1]) / 255\n",
        "\t\t\tvb = (i[0]) / 255\n",
        "\n",
        "\t\t\t# Las siguientes comparaciones se hacen para obtener\n",
        "\t\t\t# los valores de Vr, Vg y Vb respectivamente\n",
        "\n",
        "\t\t\tif vr > 0.04045:\n",
        "\t\t\t\tvr = ((vr + 0.055) / 1.055)**2.4\n",
        "\t\t\telse:\n",
        "\t\t\t\tvr = vr / 12.92\n",
        "\t\t\tif vg > 0.04045:\n",
        "\t\t\t\tvg = ((vg + 0.055) / 1.055)**2.4\n",
        "\t\t\telse:\n",
        "\t\t\t\tvg = vg / 12.92\n",
        "\t\t\tif vb > 0.04045:\n",
        "\t\t\t\tvb = ((vb + 0.055) / 1.055)**2.4\n",
        "\t\t\telse:\n",
        "\t\t\t\tvb = vb / 12.92\n",
        "\n",
        "\t\t\tvr = vr * 100\n",
        "\t\t\tvg = vg * 100\n",
        "\t\t\tvb = vb * 100\n",
        "\n",
        "\t\t\txyz = np.array([vr,vg,vb])\n",
        "\t\t\t# Matriz de constantes para hacer la conversión\n",
        "\t\t\tm = np.array([\n",
        "\t\t\t\t[0.4124, 0.3576, 0.1805],\n",
        "\t\t\t\t[0.2126, 0.7152, 0.0722],\n",
        "\t\t\t\t[0.0193, 0.1192, 0.9505]])\n",
        "\n",
        "\t\t\tres = np.matmul(m,xyz) # Multiplicación de matrices\n",
        "\n",
        "\t\t\t# Valores en el espacio de color XYZ\n",
        "\t\t\tX = res[0]\n",
        "\t\t\tY = res[1]\n",
        "\t\t\tZ = res[2]\n",
        "\n",
        "\t\t\t### Coversión de XYZ a Hunter Lab con base al estandar Illuminant D65\n",
        "\t\t\t### Los valores están declarados al inicio\n",
        "\n",
        "\t\t\tvarKa = 172.349\n",
        "\t\t\tvarKb = 67.039\n",
        "\n",
        "\t\t\tHl = 100 * (Y/Yn)**0.5\n",
        "\t\t\tHa = varKa * (((X/Xn) - (Y/Yn)) / math.sqrt(Y/Yn))\n",
        "\t\t\tHb = varKb * (((Y/Yn) - (Z/Zn)) / math.sqrt(Y/Yn))\n",
        "\n",
        "\treturn(Hl,Ha,Hb)"
      ],
      "execution_count": 0,
      "outputs": []
    },
    {
      "cell_type": "code",
      "metadata": {
        "id": "ybACzccKpAWG",
        "colab_type": "code",
        "colab": {}
      },
      "source": [
        "for j in im:\n",
        "  h = rgb2Hunter(j)\n",
        "  if all(h) == False:\n",
        "    pass\n",
        "  else:\n",
        "      cci = (1000*h[1]) / (h[0]*h[2])\n",
        "      sl.append(cci)\n",
        "  #print(np.mean(sl))"
      ],
      "execution_count": 0,
      "outputs": []
    },
    {
      "cell_type": "code",
      "metadata": {
        "id": "aWga6Kc1pAn_",
        "colab_type": "code",
        "colab": {}
      },
      "source": [
        "print(np.mean(sl))\n",
        "print(np.std(sl))"
      ],
      "execution_count": 0,
      "outputs": []
    },
    {
      "cell_type": "code",
      "metadata": {
        "id": "GE0YNK1gaxb-",
        "colab_type": "code",
        "colab": {}
      },
      "source": [
        "plt.imshow(img)\n",
        "plt.show()"
      ],
      "execution_count": 0,
      "outputs": []
    },
    {
      "cell_type": "code",
      "metadata": {
        "id": "qfKje6iDcrqO",
        "colab_type": "code",
        "colab": {}
      },
      "source": [
        "plt.imshow(gray_img,cmap='gray')\n",
        "plt.show()"
      ],
      "execution_count": 0,
      "outputs": []
    },
    {
      "cell_type": "code",
      "metadata": {
        "id": "AA4LaPzccvI-",
        "colab_type": "code",
        "colab": {}
      },
      "source": [
        "plt.imshow(heatmap_img)\n",
        "plt.show()"
      ],
      "execution_count": 0,
      "outputs": []
    },
    {
      "cell_type": "code",
      "metadata": {
        "id": "S8iKdKC3cyDH",
        "colab_type": "code",
        "colab": {}
      },
      "source": [
        "plt.imshow(fin)\n",
        "plt.show()"
      ],
      "execution_count": 0,
      "outputs": []
    },
    {
      "cell_type": "code",
      "metadata": {
        "id": "xhV9gqusc0dH",
        "colab_type": "code",
        "colab": {}
      },
      "source": [
        "img = skimage.io.imread(os.path.join(data_dir, \"img (5).png\"))\n",
        "gray_img = cv2.cvtColor(img, cv2.COLOR_BGR2GRAY)\n",
        "heatmap_img = cv2.applyColorMap(gray_img, cv2.COLORMAP_JET)\n",
        "fin = cv2.addWeighted(heatmap_img, 0.7, img, 0.3, 0)"
      ],
      "execution_count": 0,
      "outputs": []
    },
    {
      "cell_type": "code",
      "metadata": {
        "id": "fjmzktRmgaj-",
        "colab_type": "code",
        "colab": {}
      },
      "source": [
        "plt.imshow(img)\n",
        "plt.show()"
      ],
      "execution_count": 0,
      "outputs": []
    },
    {
      "cell_type": "code",
      "metadata": {
        "id": "iOrEQ-LxgbBX",
        "colab_type": "code",
        "colab": {}
      },
      "source": [
        "plt.imshow(gray_img,cmap='gray')\n",
        "plt.show()"
      ],
      "execution_count": 0,
      "outputs": []
    },
    {
      "cell_type": "code",
      "metadata": {
        "id": "uvJe1mndgbFL",
        "colab_type": "code",
        "colab": {}
      },
      "source": [
        "plt.imshow(heatmap_img)\n",
        "plt.show()"
      ],
      "execution_count": 0,
      "outputs": []
    },
    {
      "cell_type": "code",
      "metadata": {
        "id": "VddRmugXg8FK",
        "colab_type": "code",
        "colab": {}
      },
      "source": [
        "plt.imshow(fin)\n",
        "plt.show()"
      ],
      "execution_count": 0,
      "outputs": []
    },
    {
      "cell_type": "code",
      "metadata": {
        "id": "rR99zFgBg9BT",
        "colab_type": "code",
        "colab": {}
      },
      "source": [
        ""
      ],
      "execution_count": 0,
      "outputs": []
    },
    {
      "cell_type": "markdown",
      "metadata": {
        "id": "PmjYN_2JWRXh",
        "colab_type": "text"
      },
      "source": [
        "# References\n",
        "\n",
        "[1] Serge Obam Y. (2019). Plant Disease Classification with TensorFlow Lite on Android. Source: https://medium.com/@yannicksergeobam/plant-disease-classification-with-tensorflow-2-0-268fe7f72c2a [Date: January 10th, 2020]."
      ]
    },
    {
      "cell_type": "code",
      "metadata": {
        "id": "H-EXoC36Wy4e",
        "colab_type": "code",
        "colab": {}
      },
      "source": [
        ""
      ],
      "execution_count": 0,
      "outputs": []
    }
  ]
}